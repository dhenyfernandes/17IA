{
 "cells": [
  {
   "cell_type": "markdown",
   "metadata": {},
   "source": [
    "# Programação Funcional"
   ]
  },
  {
   "cell_type": "markdown",
   "metadata": {},
   "source": [
    "### Lambda"
   ]
  },
  {
   "cell_type": "code",
   "execution_count": null,
   "metadata": {},
   "outputs": [],
   "source": [
    "quadrado = lambda num: num ** 2\n",
    "multiplicacao = lambda x,y: x*y\n",
    "\n",
    "print(quadrado(2))\n",
    "print(multiplicacao(2,3))"
   ]
  },
  {
   "cell_type": "markdown",
   "metadata": {},
   "source": [
    "### Map"
   ]
  },
  {
   "cell_type": "code",
   "execution_count": null,
   "metadata": {},
   "outputs": [],
   "source": [
    "import math\n",
    "lista1 = [1, 4, 9, 16, 25]\n",
    "lista2 = map(math.sqrt, lista1)\n",
    "print(list(lista2))"
   ]
  },
  {
   "cell_type": "code",
   "execution_count": null,
   "metadata": {},
   "outputs": [],
   "source": [
    "nums = [1, 2, 3, 4, 5, 6, 7, 8, 9, 10, 11, 12]\n",
    "from math import log10\n",
    "print (list(map(log10, nums)))\n",
    "print (list(map(lambda x: x / 3, nums)))"
   ]
  },
  {
   "cell_type": "markdown",
   "metadata": {},
   "source": [
    "### Reduce"
   ]
  },
  {
   "cell_type": "code",
   "execution_count": null,
   "metadata": {},
   "outputs": [],
   "source": [
    "from functools import reduce\n",
    "nums = range(100)\n",
    "print (reduce(lambda x, y: x + y, nums))\n",
    "\n",
    "f = lambda a,b: a if (a > b) else b\n",
    "print(reduce(f, [47,11,42,102,13]))"
   ]
  },
  {
   "cell_type": "markdown",
   "metadata": {},
   "source": [
    "### Filter"
   ]
  },
  {
   "cell_type": "code",
   "execution_count": null,
   "metadata": {},
   "outputs": [],
   "source": [
    "x = [1,2,3,4,5,6,7]\n",
    "print (list(filter(lambda x: x % 2, x)))\n",
    "\n",
    "number_list = range(-5, 5)\n",
    "less_than_zero = list(filter(lambda x: x < 0, number_list))\n",
    "print(less_than_zero)"
   ]
  },
  {
   "cell_type": "markdown",
   "metadata": {},
   "source": [
    "### Transposição"
   ]
  },
  {
   "cell_type": "code",
   "execution_count": null,
   "metadata": {},
   "outputs": [],
   "source": [
    "x = [1, 2, 3]\n",
    "y = [4, 5, 6, 9, 0]\n",
    "print (list(zip(x, y)))\n",
    "\n",
    "matriz = [[1, 2, 3], [4, 5, 6], [7, 8, 9]] \n",
    "print (list(zip(*matriz))) #Descompacta e depois faz a transposição"
   ]
  },
  {
   "cell_type": "markdown",
   "metadata": {},
   "source": [
    "### List Comprehension"
   ]
  },
  {
   "cell_type": "code",
   "execution_count": null,
   "metadata": {},
   "outputs": [],
   "source": [
    "S = [x*2 for x in range(0, 10)]\n",
    "print(S)"
   ]
  },
  {
   "cell_type": "code",
   "execution_count": null,
   "metadata": {},
   "outputs": [],
   "source": [
    "nums = [1, 2, 3, 4, 5, 6, 7, 8, 9, 10, 11, 12]\n",
    "print ([ x**2 for x in nums if not x % 2 ])"
   ]
  },
  {
   "cell_type": "code",
   "execution_count": null,
   "metadata": {},
   "outputs": [],
   "source": [
    "[[s.capitalize(), s.upper(), len(s)] for s in ['um', 'dois', 'tres']]"
   ]
  },
  {
   "cell_type": "markdown",
   "metadata": {},
   "source": [
    "\n",
    "## TODO Section"
   ]
  },
  {
   "cell_type": "markdown",
   "metadata": {},
   "source": [
    "## 1)\n",
    "A amplitude de um vetor 3D é dado pela seguinte fórmula: $\\sqrt{x^2 + y^2 + z^2}$\n",
    "\n",
    "Escreva uma função, usando lambda, que calcule a amplitude de qualquer vetor. Exemplo de entrada:\n",
    "\n",
    "    -> (1,1,1) \n",
    "    -> (3,4,5)"
   ]
  },
  {
   "cell_type": "code",
   "execution_count": 3,
   "metadata": {},
   "outputs": [
    {
     "output_type": "stream",
     "name": "stdout",
     "text": [
      "1.7320508075688772\n7.0710678118654755\n"
     ]
    }
   ],
   "source": [
    "# resposta\n",
    "\n",
    "amp_vetor = lambda x,y,z:(x**2 + y**2 + z**2) ** 0.5\n",
    "\n",
    "print(amp_vetor(1,1,1))    \n",
    "print(amp_vetor(3,4,5))    "
   ]
  },
  {
   "cell_type": "markdown",
   "metadata": {},
   "source": [
    "## 2) \n",
    "Use reduce para criar uma função que calcule o fatorial de qualquer número n"
   ]
  },
  {
   "cell_type": "code",
   "execution_count": null,
   "metadata": {},
   "outputs": [],
   "source": [
    "# resposta\n",
    "\n",
    "def fatorial(n):\n",
    "    return(reduce(lambda x,y:x*y,range(1,n+1)))\n",
    "\n",
    "print(fatorial(5))    "
   ]
  },
  {
   "cell_type": "markdown",
   "metadata": {},
   "source": [
    "# Orientação à Objetos"
   ]
  },
  {
   "cell_type": "code",
   "execution_count": 5,
   "metadata": {},
   "outputs": [],
   "source": [
    "#Abstração\n",
    "class SomeClass:    \n",
    "    def create_arr(self):\n",
    "        self.arr = []\n",
    "    \n",
    "    def insert_to_arr(self, value): \n",
    "        self.arr.append(value)"
   ]
  },
  {
   "cell_type": "code",
   "execution_count": 6,
   "metadata": {},
   "outputs": [
    {
     "output_type": "execute_result",
     "data": {
      "text/plain": [
       "[5]"
      ]
     },
     "metadata": {},
     "execution_count": 6
    }
   ],
   "source": [
    "# Instanciamento\n",
    "obj = SomeClass()\n",
    "obj.create_arr()\n",
    "obj.insert_to_arr(5)\n",
    "obj.arr"
   ]
  },
  {
   "cell_type": "code",
   "execution_count": 12,
   "metadata": {},
   "outputs": [
    {
     "output_type": "execute_result",
     "data": {
      "text/plain": [
       "{1, 2, 3, 4, 5}"
      ]
     },
     "metadata": {},
     "execution_count": 12
    }
   ],
   "source": [
    "m = [1,1,2,3,4,2,2,4,5,5,1,1]\n",
    "set(m)"
   ]
  },
  {
   "cell_type": "code",
   "execution_count": 8,
   "metadata": {},
   "outputs": [],
   "source": [
    "#definição da classe\n",
    "class Set:\n",
    "    # Funções membras\n",
    "    # self se refere ao objeto Set que está sendo usado\n",
    "    def __init__(self, values=None):\n",
    "        \"\"\"\n",
    "        Este é o construtor\n",
    "        Ele é chamado quando você cria um novo Set;\n",
    "        Deve ser usado da seguinte maneira:\n",
    "        s1 = Set() # set vazio\n",
    "        s2 = Set([1,2,2,3]) #inicializa com valores\n",
    "        \"\"\"\n",
    "        self.dict = {}  # cada instância de um Set possui seu próprio dicionário\n",
    "        # que será usado para rastrear membresia\n",
    "        if values is not None:\n",
    "            for value in values:\n",
    "                self.add(value)\n",
    "    def __repr__(self):\n",
    "        \"\"\"\n",
    "        Esta é a representação de um objeto Set por meio de uma string\n",
    "        \"\"\"\n",
    "        return \"Set: \" + str(self.dict.keys())\n",
    "    \n",
    "    # vamos representar membresia como sendo uma chave no self.dict com valor True\n",
    "    def add(self, value):\n",
    "        self.dict[value] = True\n",
    "    \n",
    "    # valor está no Set se ele é uma chave no dicionário\n",
    "    def contains(self, value):\n",
    "        return value in self.dict\n",
    "    \n",
    "    def remove(self, value):\n",
    "        del self.dict[value]"
   ]
  },
  {
   "cell_type": "code",
   "execution_count": 9,
   "metadata": {},
   "outputs": [
    {
     "output_type": "execute_result",
     "data": {
      "text/plain": [
       "Set: dict_keys([1, 2, 3])"
      ]
     },
     "metadata": {},
     "execution_count": 9
    }
   ],
   "source": [
    "s = Set([1,2,3,2,3,1])\n",
    "s"
   ]
  },
  {
   "cell_type": "code",
   "execution_count": 13,
   "metadata": {},
   "outputs": [
    {
     "output_type": "stream",
     "name": "stdout",
     "text": [
      "True\nFalse\n"
     ]
    }
   ],
   "source": [
    "s.add(4)\n",
    "print (s.contains(4)) # True\n",
    "s.remove(3)\n",
    "print (s.contains(3)) # False"
   ]
  },
  {
   "cell_type": "code",
   "execution_count": 18,
   "metadata": {},
   "outputs": [
    {
     "output_type": "stream",
     "name": "stdout",
     "text": [
      "Bem-vindo João Silva à turma de 2020\n"
     ]
    },
    {
     "output_type": "execute_result",
     "data": {
      "text/plain": [
       "'m'"
      ]
     },
     "metadata": {},
     "execution_count": 18
    }
   ],
   "source": [
    "class Person:\n",
    "    sexo = 'm'\n",
    "    def __init__(self, fname, lname):\n",
    "        self.firstname = fname\n",
    "        self.lastname = lname\n",
    "    \n",
    "    def printname(self):\n",
    "        print(self.firstname, self.lastname)\n",
    "\n",
    "class Student(Person):\n",
    "    def __init__(self, fname, lname, year):\n",
    "        super().__init__(fname, lname)\n",
    "        self.graduationyear = year\n",
    "\n",
    "    def welcome(self):\n",
    "        print(\"Bem-vindo\", self.firstname, self.lastname, \"à turma de\", self.graduationyear)\n",
    "\n",
    "x = Student(\"João\", \"Silva\", 2020)\n",
    "x.welcome()\n",
    "x.sexo\n"
   ]
  },
  {
   "cell_type": "code",
   "execution_count": 15,
   "metadata": {},
   "outputs": [
    {
     "output_type": "stream",
     "name": "stdout",
     "text": [
      "João Silva\n"
     ]
    }
   ],
   "source": [
    "x.printname()"
   ]
  },
  {
   "cell_type": "markdown",
   "metadata": {},
   "source": [
    "## TODO Section"
   ]
  },
  {
   "cell_type": "markdown",
   "metadata": {},
   "source": [
    "## 3)\n",
    "Crie uma classe que irá modelar características geométricas de um círculo. Deverá implementar os métodos:\n",
    "\n",
    "        -> Área \n",
    "        -> Perímetro\n",
    "        \n",
    "Utilize atributos de classe e de instância apropriados. Crie um inicializador e métodos.\n",
    "\n",
    "$area = \\pi*r^2$\n",
    "\n",
    "$perimetro = 2*\\pi*r$"
   ]
  },
  {
   "cell_type": "code",
   "execution_count": 29,
   "metadata": {},
   "outputs": [
    {
     "output_type": "stream",
     "name": "stdout",
     "text": [
      "50.26548245743669\n",
      "25.132741228718345\n",
      "0.0\n",
      "0.0\n",
      "Terminou!!!!\n"
     ]
    }
   ],
   "source": [
    "# Resposta\n",
    "import math\n",
    "\n",
    "class Circulo:\n",
    "    def __init__(self, raio):\n",
    "            self.raio = raio\n",
    "\n",
    "    def __repr__(self):\n",
    "        return 'Este círculo tem %.2f de area e %.2f de perímetro.' % (self.area, self.perimetro)\n",
    "\n",
    "    def area(self):\n",
    "        return math.pi*self.raio**2\n",
    "\n",
    "    def perimetro(self):\n",
    "        return 2*math.pi*self.raio\n",
    "\n",
    "raio = 1\n",
    "while (raio != 0):    \n",
    "    raio = int(input('Entre com o raio do círculo : '))\n",
    "    bola = Circulo(raio)\n",
    "\n",
    "    print(bola.area())\n",
    "    print(bola.perimetro())\n",
    "    bola\n",
    "\n",
    "print('Terminou!!!!')\n"
   ]
  },
  {
   "cell_type": "code",
   "execution_count": null,
   "metadata": {},
   "outputs": [],
   "source": []
  }
 ],
 "metadata": {
  "kernelspec": {
   "display_name": "Python 3",
   "language": "python",
   "name": "python3"
  },
  "language_info": {
   "codemirror_mode": {
    "name": "ipython",
    "version": 3
   },
   "file_extension": ".py",
   "mimetype": "text/x-python",
   "name": "python",
   "nbconvert_exporter": "python",
   "pygments_lexer": "ipython3",
   "version": "3.8.3-final"
  }
 },
 "nbformat": 4,
 "nbformat_minor": 4
}